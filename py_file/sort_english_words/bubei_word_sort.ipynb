{
 "cells": [
  {
   "cell_type": "code",
   "execution_count": 1,
   "metadata": {},
   "outputs": [],
   "source": [
    "import markdown\n",
    "with open('E:/Markdown_file/English_word.md','r') as md_file:\n",
    "    md_text=md_file.read()\n",
    "\n",
    "word=[]\n",
    "for line in md_text:\n",
    "    words=line.strip()\n",
    "    word.append(words)\n",
    "\n",
    "word=[jinghao.replace(\"#\",\"\") for jinghao in word]  # 去掉#\n",
    "word=['#' if str(s)=='' else s for s in word]\n",
    "\n",
    "word_all=''.join(word).split(\"#\")\n",
    "word_all = [s for s in word_all if s]\n",
    "word_all.sort(reverse=False)\n",
    "word_all=[s for s in word_all if not s.isupper()]\n",
    "\n",
    "with open(\"E:/Markdown_file/English_word.txt\",\"w\") as file:\n",
    "    for item in word_all:\n",
    "        file.write(item + '\\n')"
   ]
  },
  {
   "cell_type": "code",
   "execution_count": null,
   "metadata": {},
   "outputs": [],
   "source": []
  }
 ],
 "metadata": {
  "kernelspec": {
   "display_name": "base",
   "language": "python",
   "name": "python3"
  },
  "language_info": {
   "codemirror_mode": {
    "name": "ipython",
    "version": 3
   },
   "file_extension": ".py",
   "mimetype": "text/x-python",
   "name": "python",
   "nbconvert_exporter": "python",
   "pygments_lexer": "ipython3",
   "version": "3.11.5"
  }
 },
 "nbformat": 4,
 "nbformat_minor": 2
}
