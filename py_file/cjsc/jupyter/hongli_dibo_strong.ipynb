{
 "cells": [
  {
   "cell_type": "code",
   "execution_count": 1,
   "metadata": {},
   "outputs": [],
   "source": [
    "import numpy as np\n",
    "import pandas as pd\n",
    "from datetime import datetime,date\n",
    "import time\n",
    "\n",
    "import cx_Oracle\n",
    "import csv\n",
    "import math\n",
    "import pandas as pd\n",
    "import numpy as np\n",
    "\n",
    "#加减年月\n",
    "import dateutil.relativedelta\n",
    "# from datetime import datetime\n",
    "# from datetime import date\n",
    "\n",
    "import matplotlib.pyplot as plt\n",
    "import os\n",
    "\n",
    "from datetime import *\n",
    "dns_tns=cx_Oracle.makedsn('172.16.50.233',1521,service_name='dfcfstb')\n",
    "conn = cx_Oracle.Connection(user='cjchenjm5',password='Jm0228_Cjsc!',dsn=dns_tns,encoding='UTF-16')"
   ]
  },
  {
   "cell_type": "code",
   "execution_count": 39,
   "metadata": {},
   "outputs": [
    {
     "name": "stderr",
     "output_type": "stream",
     "text": [
      "e:\\anocanda\\lib\\site-packages\\pandas\\io\\sql.py:762: UserWarning: pandas only support SQLAlchemy connectable(engine/connection) ordatabase string URI or sqlite3 DBAPI2 connectionother DBAPI2 objects are not tested, please consider using SQLAlchemy\n",
      "  warnings.warn(\n"
     ]
    }
   ],
   "source": [
    "# 取每月最后一个交易日\n",
    "def get_last_tradate(date0,date1):\n",
    "    date0 = date0.strftime('%Y%m%d')\n",
    "    date1 = date1.strftime('%Y%m%d')   \n",
    "    sql = f'''\n",
    "                select 交易日期,month\n",
    "                from\n",
    "                (\n",
    "                    select 交易日期,month,row_number() over(partition by month order by 交易日期 desc) as rank\n",
    "                    from\n",
    "                    (\n",
    "                        SELECT F1_1010 交易日期,substr(F1_1010,1,6) month\n",
    "                        FROM wind.TB_OBJECT_1010\n",
    "                        where F1_1010 <= '{date1}'\n",
    "                        and F1_1010 >= '{date0}'\n",
    "                    )\n",
    "                )t\n",
    "                where t.rank = 1\n",
    "            '''\n",
    "    data = pd.read_sql(sql, conn)\n",
    "    return data\n",
    "\n",
    "time_list = get_last_tradate(datetime(2010,12,31),date.today())\n",
    "time_list['交易日期'] = pd.to_datetime(time_list['交易日期'])\n",
    "space_month=time_list"
   ]
  },
  {
   "cell_type": "code",
   "execution_count": null,
   "metadata": {},
   "outputs": [],
   "source": [
    "# 原版本\n",
    "def get_cap_turnover(date0):\n",
    "    #d0和d1相差一年\n",
    "    #输入调仓日，生成其一年前的日期,datetime格式\n",
    "    #时间加减（减一年）\n",
    "    d0 = date0 - pd.DateOffset(years=1)\n",
    "    date1 = d0.strftime('%Y%m%d')\n",
    "    sql = f'''\n",
    "                    select F16_1090,F7_0002,F17_1090 上市时间,F18_1090 摘牌日期,avg_cap 日均总市值,avg_to 日均成交额\n",
    "                    from(\n",
    "                        select F16_1090,F7_0002,F17_1090,F18_1090,avg(总市值) avg_cap,avg(成交额) avg_to\n",
    "                        from(\n",
    "                            SELECT\n",
    "                                F16_1090,\n",
    "                                F7_0002,\n",
    "                                F9_5004/10000 总市值,\n",
    "                                F11_1120/100000 成交额,\n",
    "                                F17_1090,F18_1090\n",
    "                            FROM\n",
    "                                wind.TB_OBJECT_5004\n",
    "                            LEFT JOIN wind.TB_OBJECT_1090 on F2_1090 = F1_5004\n",
    "                            left join wind.TB_OBJECT_0002 ON F27_1090 = F4_0002\n",
    "                            left join wind.TB_OBJECT_1120 on F1_1120 = F2_1090\n",
    "                            WHERE F2_5004 <= '{date0}'and F2_5004 >= '{date1}'\n",
    "                            and F2_1120 <= '{date0}'and F2_1120 >= '{date1}'\n",
    "                            AND F4_1090 = 'A'\n",
    "                            and F17_1090 <= '{date0}'\n",
    "                            and F2_1120 = F2_5004\n",
    "                        )\n",
    "                        group by F16_1090,F7_0002,F17_1090,F18_1090\n",
    "                    )\n",
    "            '''\n",
    "    data = pd.read_sql(sql, conn)\n",
    "    data['证券代码'] = data['F16_1090'].str.cat(data['F7_0002'],sep = '.')\n",
    "    data['日期'] = date0\n",
    "    data = data[['日期','证券代码','上市时间','摘牌日期','日均总市值','日均成交额']]\n",
    "    data['cap_pct'] = data.groupby('日期').rank(pct= True)['日均总市值']\n",
    "    data['to_pct'] = data.groupby('日期').rank(pct= True)['日均成交额']\n",
    "    data = data.loc[(data['cap_pct']>0.2)&(data['to_pct']>0.2)]\n",
    "    data.sort_values(by=['证券代码'],inplace=True)\n",
    "    return data\n",
    "\n",
    "#剔除市值和流动性后20%\n",
    "pool = pd.DataFrame()\n",
    "for i in range(len(space_month)):\n",
    "    date = space_month['交易日期'][i]#datetime\n",
    "    temp = get_cap_turnover(date)\n",
    "    pool=pool.append(temp)\n"
   ]
  },
  {
   "cell_type": "code",
   "execution_count": null,
   "metadata": {},
   "outputs": [],
   "source": [
    "pool.to_excel('D:/实习/Python参考资料/'+'pool.xlsx')\n",
    "pool"
   ]
  },
  {
   "cell_type": "code",
   "execution_count": null,
   "metadata": {},
   "outputs": [],
   "source": [
    "# 剔除条件 \n",
    "def get_cap_turnover(date0):\n",
    "    #d0和d1相差一年\n",
    "    #输入调仓日，生成其一年前的日期,datetime格式\n",
    "    #时间加减（减一年）\n",
    "    d0 = date0 - pd.DateOffset(years=1)\n",
    "    date1 = d0.strftime('%Y%m%d')\n",
    "    sql = f'''\n",
    "                    select F16_1090,F7_0002,F17_1090 上市时间,F18_1090 摘牌日期,avg_cap 日均总市值,avg_to 日均成交额, avg_not_roe 扣非ROE均值, F9_5004 总市值            \n",
    "                    from(\n",
    "                        select F16_1090,F7_0002,F17_1090,F18_1090,avg(总市值) avg_cap,avg(成交额) avg_to, avg(扣非ROE) avg_not_roe, F9_5004\n",
    "                        from(\n",
    "                            SELECT\n",
    "                                F16_1090,\n",
    "                                F7_0002,\n",
    "                                F9_5004/10000 总市值,\n",
    "                                F11_1120/100000 成交额,\n",
    "                                F61_1683 扣非ROE,\n",
    "                                F9_5004,\n",
    "                                \n",
    "                                F17_1090,F18_1090\n",
    "                                \n",
    "                            FROM\n",
    "                                wind.TB_OBJECT_5004\n",
    "                            LEFT JOIN wind.TB_OBJECT_1090 on F2_1090 = F1_5004\n",
    "                            left join wind.TB_OBJECT_0002 ON F27_1090 = F4_0002\n",
    "                            left join wind.TB_OBJECT_1120 on F1_1120 = F2_1090\n",
    "                            left join wind.TB_OBJECT_1683 on F1_1683 = F16_1090\n",
    "                            WHERE F2_5004 <= '{date0}'and F2_5004 >= '{date1}'\n",
    "                            and F2_1120 <= '{date0}'and F2_1120 >= '{date1}'\n",
    "                            AND F4_1090 = 'A'  \n",
    "                            and F17_1090 <= '{date0}'\n",
    "                            and F2_1120 = F2_5004\n",
    "                        )\n",
    "                        group by F16_1090,F7_0002,F17_1090,F18_1090,F9_5004\n",
    "                    )\n",
    "            '''\n",
    "    data = pd.read_sql(sql, conn)\n",
    "    data['证券代码'] = data['F16_1090'].str.cat(data['F7_0002'],sep = '.')\n",
    "    data['日期'] = date0\n",
    "    data = data[['日期','证券代码','上市时间','摘牌日期','日均总市值','日均成交额']]\n",
    "    data['cap_pct'] = data.groupby('日期').rank(pct= True)['日均总市值']\n",
    "    data['to_pct'] = data.groupby('日期').rank(pct= True)['日均成交额']\n",
    "    # data = data.loc[(data['cap_pct']>0.2)&(data['to_pct']>0.2)]\n",
    "    # data = data.loc[data['to_pct']>0.2] # 过去一年日均成交额\n",
    "    data.sort_values(by=['证券代码'],inplace=True)\n",
    "    return data\n",
    "\n",
    "#剔除市值和流动性后20%\n",
    "pool = pd.DataFrame()\n",
    "for i in range(len(space_month)):\n",
    "    date = space_month['交易日期'][i]#datetime\n",
    "    temp = get_cap_turnover(date)\n",
    "    pool=pool.append(temp)"
   ]
  },
  {
   "cell_type": "code",
   "execution_count": null,
   "metadata": {},
   "outputs": [],
   "source": [
    "# 测试版本 剔除条件\n",
    "date0=datetime(2020,12,1)\n",
    "d0 = date0 - pd.DateOffset(years=1)\n",
    "date1 = d0.strftime('%Y%m%d')\n",
    "date0 = date0.strftime('%Y%m%d')\n",
    "sql= f'''\n",
    "            select \n",
    "                F16_1090,F7_0002,avg(F53_5034) 扣非ROE, F31_1683 每股股利\n",
    "            from(\n",
    "                select F16_1090,F7_0002,F53_5034,F31_1683\n",
    "                FROM\n",
    "                    wind.TB_OBJECT_5034\n",
    "                LEFT JOIN wind.TB_OBJECT_1090 on F16_1090 = F1_5034\n",
    "                left join wind.TB_OBJECT_0002 ON F27_1090 = F4_0002\n",
    "                left join wind.TB_OBJECT_1120 on F1_1120 = F2_1090\n",
    "                left join wind.TB_OBJECT_5004 on F1_5004 = F2_1090\n",
    "                left join wind.TB_OBJECT_1683 on F1_1683 = F16_1090\n",
    "                WHERE F3_5034 <= '{date0}'and F3_5034 >= '{date1}'\n",
    "                and F2_1120 <= '{date0}'and F2_1120 >= '{date1}'\n",
    "                AND F4_1090 = 'A'  \n",
    "                and F17_1090 <= '{date0}'\n",
    "                and F53_5034 is not null\n",
    "                )\n",
    "               group by F16_1090,F7_0002, F31_1683\n",
    "            \n",
    "    '''\n",
    "data = pd.read_sql(sql, conn)"
   ]
  },
  {
   "cell_type": "code",
   "execution_count": 17,
   "metadata": {},
   "outputs": [],
   "source": [
    "# 净利润\n",
    "date0=datetime(2020,12,1)\n",
    "d0 = date0 - pd.DateOffset(years=1)\n",
    "date1 = d0.strftime('%Y%m%d')\n",
    "date0 = date0.strftime('%Y%m%d')\n",
    "sql=f'''\n",
    "        select\n",
    "            代码,日期,净利润,类型, F96, rank\n",
    "        from(\n",
    "            SELECT\n",
    "                F16_1090 代码,\n",
    "                F2_1854 日期,\n",
    "                F3_1854 公告日期,\n",
    "                F4_1854 类型,\n",
    "                F61_1854 净利润,\n",
    "                F96_1854 F96,\n",
    "                row_number() over(partition by F2_1854,F16_1090 order by F96_1854 desc) as rank\n",
    "            FROM\n",
    "                wind.TB_OBJECT_1854\n",
    "            LEFT JOIN wind.TB_OBJECT_1090 on Ob_revisions_1090 = F1_1854\n",
    "            WHERE \n",
    "                F2_1854 <= '{date0}' and F2_1854 >= '{date1}' and F96_1854<= '{date0}' \n",
    "                AND F4_1090 = 'A' AND F4_1854 not like '%单季度%' and F2_1854 like '%1231' \n",
    "                AND F4_1854 like '%合并%') tt\n",
    "            where \n",
    "            tt.rank=1\n",
    "            \n",
    "'''\n",
    "data=pd.read_sql(sql,conn)"
   ]
  },
  {
   "cell_type": "code",
   "execution_count": 27,
   "metadata": {},
   "outputs": [
    {
     "name": "stderr",
     "output_type": "stream",
     "text": [
      "e:\\anocanda\\lib\\site-packages\\pandas\\io\\sql.py:762: UserWarning: pandas only support SQLAlchemy connectable(engine/connection) ordatabase string URI or sqlite3 DBAPI2 connectionother DBAPI2 objects are not tested, please consider using SQLAlchemy\n",
      "  warnings.warn(\n"
     ]
    }
   ],
   "source": [
    "# 日均成交额\n",
    "date0=datetime(2020,12,31)\n",
    "d0 = date0 - pd.DateOffset(years=1)\n",
    "date1 = d0.strftime('%Y%m%d')\n",
    "date0 = date0.strftime('%Y%m%d')\n",
    "sql=f'''\n",
    "        select \n",
    "                代码, 日均成交量, 交易所后缀\n",
    "        from(\n",
    "             select\n",
    "                    F16_1090 代码,\n",
    "                    avg(F11_1120/100000) 日均成交量,   \n",
    "                    F7_0002 交易所后缀\n",
    "                from\n",
    "                        wind.TB_OBJECT_1120\n",
    "                left join wind.TB_OBJECT_1090 on F2_1090 = F1_1120\n",
    "                left join wind.TB_OBJECT_0002 on F27_1090 = F4_0002\n",
    "                where\n",
    "                        F2_1120 <= '{date0}' and F2_1120 >= '{date1}'\n",
    "                        AND F4_1090 = 'A'  and F17_1090 <= '{date0}'\n",
    "                group by F16_1090, F7_0002\n",
    "        )\n",
    "                \n",
    "'''\n",
    "data_turnover=pd.read_sql(sql,conn)"
   ]
  },
  {
   "cell_type": "code",
   "execution_count": 30,
   "metadata": {},
   "outputs": [],
   "source": [
    "# 剔除后20%\n",
    "data_turnover['日期']=date0\n",
    "data_turnover['turnover_day']=data_turnover.groupby('日期').rank(pct=True)['日均成交量']\n",
    "data_turnover=data_turnover.loc[data_turnover['turnover_day']>0.2]"
   ]
  },
  {
   "cell_type": "code",
   "execution_count": 2,
   "metadata": {},
   "outputs": [
    {
     "name": "stderr",
     "output_type": "stream",
     "text": [
      "e:\\anocanda\\lib\\site-packages\\pandas\\io\\sql.py:762: UserWarning: pandas only support SQLAlchemy connectable(engine/connection) ordatabase string URI or sqlite3 DBAPI2 connectionother DBAPI2 objects are not tested, please consider using SQLAlchemy\n",
      "  warnings.warn(\n"
     ]
    }
   ],
   "source": [
    "# 扣非ROE\n",
    "date0=datetime(2020,12,31)\n",
    "d0 = date0 - pd.DateOffset(years=2)\n",
    "date1 = d0.strftime('%Y%m%d')\n",
    "date0 = date0.strftime('%Y%m%d')\n",
    "\n",
    "sql=f'''\n",
    "    select\n",
    "            代码, 日期, 净资产收益率_扣非, 交易所后缀\n",
    "    from \n",
    "        (\n",
    "        select \n",
    "                F16_1090 代码,\n",
    "                F3_5034 日期,\n",
    "                F53_5034 净资产收益率_扣非,\n",
    "                F7_0002 交易所后缀, \n",
    "                F17_1090 上市时间,\n",
    "                \n",
    "                row_number() over(partition by F16_1090, F3_5034 order by F3_5034 desc) as rank\n",
    "        from\n",
    "                wind.TB_OBJECT_5034\n",
    "        left join wind.TB_OBJECT_1090 on Ob_revisions_1090 = F1_5034\n",
    "        left join wind.TB_OBJECT_0002 on F27_1090 = F4_0002\n",
    "        \n",
    "        where\n",
    "                F3_5034 <= '{date0}' and F3_5034 >= '{date1}' and F17_1090 <= '{date0}'\n",
    "                AND F4_1090 = 'A' and F3_5034 like '%1231'\n",
    "        )\n",
    "'''\n",
    "data=pd.read_sql(sql,conn)\n"
   ]
  },
  {
   "cell_type": "code",
   "execution_count": 3,
   "metadata": {},
   "outputs": [],
   "source": [
    "# 扣非roe均值\n",
    "data1=data.copy()\n",
    "data2=data1.groupby('代码').mean()['净资产收益率_扣非']"
   ]
  },
  {
   "cell_type": "code",
   "execution_count": 4,
   "metadata": {},
   "outputs": [],
   "source": [
    "data3=data1[data1['日期']==date0].drop('净资产收益率_扣非',axis=1)\n",
    "data4=pd.DataFrame(data2)\n",
    "data4=data4.reset_index()\n",
    "data4=data4.rename(columns={'净资产收益率_扣非':'扣非roe均值'})\n",
    "data5=pd.merge(data3,data4,on='代码',how='outer') # 扣非ROE均值\n",
    "data5=data5.sort_values('代码')"
   ]
  },
  {
   "cell_type": "code",
   "execution_count": 34,
   "metadata": {},
   "outputs": [],
   "source": [
    "# 扣非roe标准差\n",
    "data1s=data.copy()\n",
    "data2s=data1s.groupby('代码').std()['净资产收益率_扣非']\n",
    "data3s=data1s[data1s['日期']==date0].drop('净资产收益率_扣非',axis=1)\n",
    "data4s=pd.DataFrame(data2s)\n",
    "data4s=data4s.reset_index()\n",
    "data4s=data4s.rename(columns={'净资产收益率_扣非':'扣非roe标准差'})\n",
    "data5s=pd.merge(data3s,data4s,on='代码',how='outer') # 扣非ROE标准差\n",
    "data5s=data5s.sort_values('代码')\n",
    "# 均值-标准差\n",
    "data5s['mean_std']=data5['扣非roe均值']-data5s['扣非roe标准差']\n",
    "data_roe=data5s.copy()"
   ]
  },
  {
   "cell_type": "code",
   "execution_count": 35,
   "metadata": {},
   "outputs": [],
   "source": [
    "# 连接成交量和roe\n",
    "data_roe=pd.merge(data_turnover,data_roe,on='代码',how='left')"
   ]
  },
  {
   "cell_type": "code",
   "execution_count": 37,
   "metadata": {},
   "outputs": [],
   "source": [
    "# 剔除后30%\n",
    "data_roe=data_roe.drop(data_roe[np.isnan(data_roe['mean_std'])].index) # 去除na值\n",
    "data_roe['roe_rank']=data_roe.groupby('日期_x').rank(pct=True)['mean_std']\n",
    "data_roe=data_roe.loc[data_roe['roe_rank']>0.3]"
   ]
  },
  {
   "cell_type": "code",
   "execution_count": 18,
   "metadata": {},
   "outputs": [
    {
     "name": "stderr",
     "output_type": "stream",
     "text": [
      "e:\\anocanda\\lib\\site-packages\\pandas\\io\\sql.py:762: UserWarning: pandas only support SQLAlchemy connectable(engine/connection) ordatabase string URI or sqlite3 DBAPI2 connectionother DBAPI2 objects are not tested, please consider using SQLAlchemy\n",
      "  warnings.warn(\n"
     ]
    }
   ],
   "source": [
    "# 分红\n",
    "date0=datetime(2020,12,31)\n",
    "d0 = date0 - pd.DateOffset(years=2)\n",
    "date1 = d0.strftime('%Y%m%d')\n",
    "date0 = date0.strftime('%Y%m%d')\n",
    "sql=f'''\n",
    "        select \n",
    "            代码, 分红年度,  派息比例分子,交易所后缀, rank\n",
    "        from \n",
    "            (\n",
    "            select \n",
    "                    F16_1090 代码,\n",
    "                    F24_1093 分红年度,\n",
    "                    F9_1093 派息比例分子,\n",
    "                    F7_0002 交易所后缀,\n",
    "                    F26_1093 除权除息日,\n",
    "                    row_number() over(partition by F16_1090 order by F24_1093 desc) as rank\n",
    "                    \n",
    "            from\n",
    "                wind.TB_OBJECT_1093\n",
    "            left join wind.TB_OBJECT_1090 on F2_1090 = F1_1093\n",
    "            left join wind.TB_OBJECT_0002 on F27_1090 = F4_0002\n",
    "            where \n",
    "                F24_1093 <= '{date0}' \n",
    "                and F24_1093 >= '{date1}' and F4_1090 = 'A' and F24_1093 like '%1231'\n",
    "            )\n",
    "\n",
    "'''\n",
    "data_divid=pd.read_sql(sql,conn)"
   ]
  },
  {
   "cell_type": "code",
   "execution_count": 19,
   "metadata": {},
   "outputs": [],
   "source": [
    "data_divid1=data_divid.copy()\n",
    "data_divid2=data_divid1.drop(data_divid1[np.isnan(data_divid1['派息比例分子'])].index) # 去除没有分红的年份\n",
    "data_divid3=data_divid2.groupby('代码').filter(lambda x: len(x)==3) # 连续三年分红的股票\n",
    "data_divid4=data_divid3[data_divid3['分红年度']==date0]\n",
    "data_dividend=data_divid4.rename(columns={'分红年度':'日期'}) # 连续三年分红"
   ]
  },
  {
   "cell_type": "code",
   "execution_count": 38,
   "metadata": {},
   "outputs": [],
   "source": [
    "# 组合dividend和roe\n",
    "data_merge=pd.merge(data_dividend,data_roe,on='代码')"
   ]
  }
 ],
 "metadata": {
  "kernelspec": {
   "display_name": "base",
   "language": "python",
   "name": "python3"
  },
  "language_info": {
   "codemirror_mode": {
    "name": "ipython",
    "version": 3
   },
   "file_extension": ".py",
   "mimetype": "text/x-python",
   "name": "python",
   "nbconvert_exporter": "python",
   "pygments_lexer": "ipython3",
   "version": "3.9.13"
  }
 },
 "nbformat": 4,
 "nbformat_minor": 2
}
